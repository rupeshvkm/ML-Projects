{
 "cells": [
  {
   "cell_type": "markdown",
   "metadata": {},
   "source": [
    "# Question 3\n",
    "\n",
    "Write Python code to build a neural network with the following details. \n",
    "\n",
    "    - Input data = Iris dataset\n",
    "    - Number of hidden layers = 1\n",
    "    - Number of units in hidden layer = 5,10,15,20,25\n",
    "    - Number of iterations = 5000\n",
    "    - Learning rate = 0.0001\n",
    "    - Learning algorithm = stochastic gradient descent\n",
    "    - Activation = logistic \n",
    "\n",
    "1. Compare the training score for various hidden units. \n",
    "2. Plot the loss curve for various hidden units. \n",
    "3. Report execution time for various hidden units as a bar graph. (Use library time and time() method) \n"
   ]
  },
  {
   "cell_type": "markdown",
   "metadata": {},
   "source": [
    "## Expectations\n",
    "\n",
    "1. Expected output: (approximately)\n",
    "    - Training accuracy 5 is xx.xxx \n",
    "    - Training accuracy 10 is xx.xxx \n",
    "    - Training accuracy 15 is xx.xxx \n",
    "    - Training accuracy 20 is xx.xxx \n",
    "    - Training accuracy 25 is xx.xxx\n",
    "\n",
    "2. Graph: Training Loss (Actual output may vary)\n",
    "![title](images/op-hidden.png)\n",
    "\n",
    "3. Bar graph: Execution Time (Actual output may vary)\n",
    "![title](images/time-hidden.png)\n",
    "\n",
    "You are expected to modify this notebook and upload the modified file as assignment submission.\n",
    "\n",
    "<b> PS: Code written within the block will be evaluted. Other code will be ignored.\n",
    "#### start code here\n",
    "#### end code here"
   ]
  },
  {
   "cell_type": "code",
   "execution_count": 1,
   "metadata": {},
   "outputs": [],
   "source": [
    "from sklearn import datasets  \n",
    "import numpy as np\n",
    "import matplotlib.pyplot as plt \n",
    "\n",
    "from sklearn.preprocessing import StandardScaler\n",
    "from sklearn.model_selection import train_test_split\n",
    "\n",
    "from sklearn.metrics import accuracy_score, classification_report, confusion_matrix\n",
    "\n",
    "# Load Iris dataset.\n",
    "\n",
    "iris = datasets.load_iris()\n",
    "\n",
    "# Extract all columns except last from the dataset for X values.\n",
    "# y is the target column.\n",
    "\n",
    "X = iris[\"data\"][:,:-1]  \n",
    "y = iris[\"target\"]\n",
    "\n",
    "# Split data into train and test\n",
    "\n",
    "(X_train, X_test, y_train, y_test) = train_test_split(X, y, stratify=y, test_size= 0.3)\n",
    "\n",
    "# normalise the data\n",
    "scaler = StandardScaler()\n",
    "scaler.fit(X_train)\n",
    "\n",
    "X_train = scaler.transform(X_train)\n",
    "X_test = scaler.transform(X_test)"
   ]
  },
  {
   "cell_type": "code",
   "execution_count": 22,
   "metadata": {},
   "outputs": [
    {
     "name": "stderr",
     "output_type": "stream",
     "text": [
      "/home_dir/svgfdhdp/.anaconda/lib/python3.7/site-packages/sklearn/neural_network/multilayer_perceptron.py:562: ConvergenceWarning: Stochastic Optimizer: Maximum iterations (5000) reached and the optimization hasn't converged yet.\n",
      "  % self.max_iter, ConvergenceWarning)\n",
      "/home_dir/svgfdhdp/.anaconda/lib/python3.7/site-packages/sklearn/neural_network/multilayer_perceptron.py:562: ConvergenceWarning: Stochastic Optimizer: Maximum iterations (5000) reached and the optimization hasn't converged yet.\n",
      "  % self.max_iter, ConvergenceWarning)\n",
      "/home_dir/svgfdhdp/.anaconda/lib/python3.7/site-packages/sklearn/neural_network/multilayer_perceptron.py:562: ConvergenceWarning: Stochastic Optimizer: Maximum iterations (5000) reached and the optimization hasn't converged yet.\n",
      "  % self.max_iter, ConvergenceWarning)\n",
      "/home_dir/svgfdhdp/.anaconda/lib/python3.7/site-packages/sklearn/neural_network/multilayer_perceptron.py:562: ConvergenceWarning: Stochastic Optimizer: Maximum iterations (5000) reached and the optimization hasn't converged yet.\n",
      "  % self.max_iter, ConvergenceWarning)\n",
      "/home_dir/svgfdhdp/.anaconda/lib/python3.7/site-packages/sklearn/neural_network/multilayer_perceptron.py:562: ConvergenceWarning: Stochastic Optimizer: Maximum iterations (5000) reached and the optimization hasn't converged yet.\n",
      "  % self.max_iter, ConvergenceWarning)\n"
     ]
    }
   ],
   "source": [
    "# Use the library function sklearn.neural_network.MLPClassifier \n",
    "\n",
    "# Build neural network for various hidden units. (max 10 lines of code) Use loop.  \n",
    "# start code here\n",
    "from sklearn.neural_network import MLPClassifier\n",
    "import time\n",
    "num_hidden_units = [5,10,15,20,25]\n",
    "models, predicts, run_times = {}, {}, []\n",
    "for hunits in num_hidden_units:\n",
    "    strt_time = time.time()\n",
    "    mlp = MLPClassifier(hidden_layer_sizes=(hunits),\n",
    "                        activation='logistic',\n",
    "                        solver='sgd',\n",
    "                        learning_rate='constant',\n",
    "                        learning_rate_init=0.0001,\n",
    "                        shuffle=True,\n",
    "                        max_iter=5000,\n",
    "                        random_state=2,\n",
    "                        tol=0.000000000001)\n",
    "    models[hunits] = mlp.fit(X_train,y_train)\n",
    "    predicts[hunits] = models[hunits].predict(X=X_test)\n",
    "    run_times.append(time.time() - strt_time)\n",
    "# end code here"
   ]
  },
  {
   "cell_type": "code",
   "execution_count": 23,
   "metadata": {},
   "outputs": [
    {
     "name": "stdout",
     "output_type": "stream",
     "text": [
      "Training accuracy 5 is 53.333\n",
      "Training accuracy 10 is 80.0\n",
      "Training accuracy 15 is 91.111\n",
      "Training accuracy 20 is 93.333\n",
      "Training accuracy 25 is 88.889\n"
     ]
    }
   ],
   "source": [
    "# Compare the training  score for various hidden units. (max 2 lines of code) Use loop.\n",
    "\n",
    "# start code here\n",
    "from sklearn.metrics import accuracy_score\n",
    "for h_units, y_pred in predicts.items(): print(\"Training accuracy\",h_units, \"is\", str(round(accuracy_score(y_test, y_pred)*100, 3)))\n",
    "# end code here"
   ]
  },
  {
   "cell_type": "code",
   "execution_count": 24,
   "metadata": {},
   "outputs": [
    {
     "data": {
      "image/png": "[encoded data removed]",
      "text/plain": [
       "<Figure size 432x288 with 1 Axes>"
      ]
     },
     "metadata": {
      "needs_background": "light"
     },
     "output_type": "display_data"
    }
   ],
   "source": [
    "# Plot the loss curve for various hidden units. (max 5 lines of code) Use loop.\n",
    "\n",
    "# start code here\n",
    "for hunits, mdl in models.items(): plt.plot(mdl.loss_curve_, label=str(hunits))\n",
    "plt.legend()\n",
    "plt.show()\n",
    "# end code here"
   ]
  },
  {
   "cell_type": "code",
   "execution_count": 25,
   "metadata": {},
   "outputs": [
    {
     "data": {
      "image/png": "[encoded data removed]",
      "text/plain": [
       "<Figure size 432x288 with 1 Axes>"
      ]
     },
     "metadata": {
      "needs_background": "light"
     },
     "output_type": "display_data"
    }
   ],
   "source": [
    "# Plot the execution time as bar graph. (max 5 lines of code)\n",
    "\n",
    "# start code here\n",
    "plt.bar(num_hidden_units, run_times, align='center', alpha=0.5, width=2.0)\n",
    "plt.ylabel('Time')\n",
    "plt.show()\n",
    "# end code here"
   ]
  },
  {
   "cell_type": "code",
   "execution_count": null,
   "metadata": {},
   "outputs": [],
   "source": []
  }
 ],
 "metadata": {
  "kernelspec": {
   "display_name": "Python 3",
   "language": "python",
   "name": "python3"
  },
  "language_info": {
   "codemirror_mode": {
    "name": "ipython",
    "version": 3
   },
   "file_extension": ".py",
   "mimetype": "text/x-python",
   "name": "python",
   "nbconvert_exporter": "python",
   "pygments_lexer": "ipython3",
   "version": "3.7.3"
  }
 },
 "nbformat": 4,
 "nbformat_minor": 2
}
